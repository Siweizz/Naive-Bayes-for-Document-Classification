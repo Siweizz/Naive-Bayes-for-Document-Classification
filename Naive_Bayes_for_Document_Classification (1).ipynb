{
  "nbformat": 4,
  "nbformat_minor": 0,
  "metadata": {
    "kernelspec": {
      "display_name": "Python 3",
      "language": "python",
      "name": "python3"
    },
    "language_info": {
      "codemirror_mode": {
        "name": "ipython",
        "version": 3
      },
      "file_extension": ".py",
      "mimetype": "text/x-python",
      "name": "python",
      "nbconvert_exporter": "python",
      "pygments_lexer": "ipython3",
      "version": "3.7.4"
    },
    "colab": {
      "name": "Naive_Bayes_for_Document_Classification.ipynb",
      "provenance": [],
      "collapsed_sections": []
    }
  },
  "cells": [
    {
      "cell_type": "markdown",
      "metadata": {
        "id": "NVZaOYFbGoLS"
      },
      "source": [
        "### Naive Bayes for Document Classification"
      ]
    },
    {
      "cell_type": "markdown",
      "metadata": {
        "id": "9Hu7Fsf8GoLS"
      },
      "source": [
        "### Datasets used for the problem:\n",
        "\n",
        "20Newgroup: Can be downloaded at http://qwone.com/~jason/20Newsgroups/20news-bydate-matlab.tgz The data is composed of six files, three of them contain the test data whilethe other three have the training data. Each row of the train.data and test.data files contain thed ata listed as (docId, wordId, count). The train.label and test.label files contain the labels for each document. The class names for each class are listed in *.map files. You can also download the vocabulary for the dataset from http://qwone.com/~jason/20Newsgroups/vocabulary.txt."
      ]
    },
    {
      "cell_type": "markdown",
      "metadata": {
        "id": "Fc4TSvBPGoLT"
      },
      "source": [
        "#### Multivariate Bernoulli Model: \n",
        "The Bernoulli model for document generation entails flipping|V|coins where|V|is the size of the vocabulary. We will model the documents in the twentywebgroups dataset using the same model, and since we have twenty classes we will beworking with a multinomial class prior distribution.\n",
        "\n",
        "#### Multinomial Event Model:\n",
        "In the multinomial event model each document corresponds to independent trials from a multinomial distribution over the vocabulary. This is also known as the unigram model. For this question you will implement the Bernoulli and Multinomial Naive Bayes models for document classification, and compare their performances.\n",
        "<i>Note: Write in your code only in the place holders where you are instructed to, replacing None.<i>"
      ]
    },
    {
      "cell_type": "code",
      "metadata": {
        "id": "l4ZX4QKDGoLT"
      },
      "source": [
        "# Do not change the code in this cell\n",
        "import pandas as pd\n",
        "import numpy as np\n",
        "import matplotlib.pyplot as plt\n",
        "import os\n",
        "%matplotlib notebook"
      ],
      "execution_count": null,
      "outputs": []
    },
    {
      "cell_type": "code",
      "metadata": {
        "id": "FhkVJzONGbAb"
      },
      "source": [
        "# Change it to inline to show the plots\n",
        "%matplotlib inline"
      ],
      "execution_count": null,
      "outputs": []
    },
    {
      "cell_type": "code",
      "metadata": {
        "colab": {
          "base_uri": "https://localhost:8080/"
        },
        "id": "Ambcn_inKFlw",
        "outputId": "35f0ddbe-2322-45ef-dfa9-516cb6370641"
      },
      "source": [
        "# Download the file\n",
        "!wget http://qwone.com/~jason/20Newsgroups/20news-bydate-matlab.tgz"
      ],
      "execution_count": null,
      "outputs": [
        {
          "output_type": "stream",
          "text": [
            "--2021-06-27 20:42:04--  http://qwone.com/~jason/20Newsgroups/20news-bydate-matlab.tgz\n",
            "Resolving qwone.com (qwone.com)... 173.48.209.137\n",
            "Connecting to qwone.com (qwone.com)|173.48.209.137|:80... connected.\n",
            "HTTP request sent, awaiting response... 200 OK\n",
            "Length: 7575962 (7.2M) [application/x-gzip]\n",
            "Saving to: ‘20news-bydate-matlab.tgz’\n",
            "\n",
            "20news-bydate-matla 100%[===================>]   7.22M  7.85MB/s    in 0.9s    \n",
            "\n",
            "2021-06-27 20:42:05 (7.85 MB/s) - ‘20news-bydate-matlab.tgz’ saved [7575962/7575962]\n",
            "\n"
          ],
          "name": "stdout"
        }
      ]
    },
    {
      "cell_type": "code",
      "metadata": {
        "colab": {
          "base_uri": "https://localhost:8080/"
        },
        "id": "fmaN5UkSOsxS",
        "outputId": "1e580726-365c-41ae-b2d8-9e254da05b5f"
      },
      "source": [
        "# unzip\n",
        "!tar zxvf 20news-bydate-matlab.tgz"
      ],
      "execution_count": null,
      "outputs": [
        {
          "output_type": "stream",
          "text": [
            "20news-bydate/matlab/\n",
            "20news-bydate/matlab/train.data\n",
            "20news-bydate/matlab/train.label\n",
            "20news-bydate/matlab/train.map\n",
            "20news-bydate/matlab/test.data\n",
            "20news-bydate/matlab/test.label\n",
            "20news-bydate/matlab/test.map\n"
          ],
          "name": "stdout"
        }
      ]
    },
    {
      "cell_type": "markdown",
      "metadata": {
        "id": "4a0KdrU6GoLU"
      },
      "source": [
        "### Here is the first look at your dataset and its feature columns"
      ]
    },
    {
      "cell_type": "code",
      "metadata": {
        "colab": {
          "base_uri": "https://localhost:8080/"
        },
        "id": "ui76IOXzGoLU",
        "outputId": "1ea596a8-d62e-40c7-ba23-31509954e72b"
      },
      "source": [
        "# Change DATA_DIR to the directory containing your data files\n",
        "\n",
        "DATA_DIR='20news-bydate/matlab'\n",
        "with open(os.path.join(DATA_DIR, 'train.data')) as f:\n",
        "    lines = f.readlines()\n",
        "for l in lines[:5]:\n",
        "    doc_id,word_id,word_freq = l.strip().split(' ')\n",
        "    print ('doc_id: {} word_id: {} word frequency: {}'.format(doc_id,word_id,word_freq))\n",
        "    \n",
        "with open(os.path.join(DATA_DIR, 'train.label')) as f:\n",
        "    lines = f.readlines()\n",
        "\n",
        "for idx,l in enumerate(lines[:5]):\n",
        "    label = l.strip()\n",
        "    ## Notice that doc_id starts at 1, not 0.\n",
        "    print ('doc_id: {} label: {}'.format(idx+1,label))\n"
      ],
      "execution_count": null,
      "outputs": [
        {
          "output_type": "stream",
          "text": [
            "doc_id: 1 word_id: 1 word frequency: 4\n",
            "doc_id: 1 word_id: 2 word frequency: 2\n",
            "doc_id: 1 word_id: 3 word frequency: 10\n",
            "doc_id: 1 word_id: 4 word frequency: 4\n",
            "doc_id: 1 word_id: 5 word frequency: 2\n",
            "doc_id: 1 label: 1\n",
            "doc_id: 2 label: 1\n",
            "doc_id: 3 label: 1\n",
            "doc_id: 4 label: 1\n",
            "doc_id: 5 label: 1\n"
          ],
          "name": "stdout"
        }
      ]
    },
    {
      "cell_type": "markdown",
      "metadata": {
        "id": "mGhi7113GoLU"
      },
      "source": [
        "### Task\n",
        "Create a word-frequency list across the **training** documents and sort it in descending order from highest frequency to lowest frequency.  \n",
        "We will be working with vocabulary sizes of |V| $\\in$ top{100,500,1000,2500,5000,7500,10000,12500,25000,50000, All}, where “All” is using the complete vocabulary"
      ]
    },
    {
      "cell_type": "code",
      "metadata": {
        "id": "YAxi0fW2GoLV"
      },
      "source": [
        "# Start code here\n",
        "# write a function to load the training data from the directory and create a word-frequency list that\n",
        "# is sorted in descending order from highest frequency to lowest frequency.\n",
        "\n",
        "def create_word_freq_list(train_data_dir):\n",
        "    '''\n",
        "    Your word frequency list shoule be a list of tuples\n",
        "    [ (word_1_id, word_1_frequence),(word_2_id, word_2_frequence),..., ]\n",
        "    that is SORTED by word frequency\n",
        "    '''\n",
        "    word_freq_dict = {}\n",
        "\n",
        "    with open(os.path.join(train_data_dir)) as f:\n",
        "        lines = f.readlines()\n",
        "    for l in lines:\n",
        "        doc_id, word_id, word_freq = l.strip().split(' ')\n",
        "        if word_id in word_freq_dict.keys():\n",
        "            word_freq_dict[word_id] += int(word_freq)\n",
        "        else:\n",
        "            word_freq_dict[word_id] = 1\n",
        "    word_freq_list = sorted(word_freq_dict.items(), key = lambda kv:(kv[1], kv[0]))\n",
        "    word_freq_list.reverse()\n",
        "    return word_freq_list\n",
        "\n",
        "# End code here"
      ],
      "execution_count": null,
      "outputs": []
    },
    {
      "cell_type": "markdown",
      "metadata": {
        "id": "dm4J28FiGoLV"
      },
      "source": [
        "### Task\n",
        "Write a class for both the Bernoulli Naive-Bayes model and the Multinomial event Naive-Bayes model. The class should fit the model to the training data and evaluate the accuracy on the test data. Keep in mind to restrict the vocabulary to the selected value of |V| for both the training and test sets. Use a simple smoothing model that assigns a default frequency of 1 to each word from the vocabulary."
      ]
    },
    {
      "cell_type": "code",
      "metadata": {
        "id": "dCYFejI2GoLV"
      },
      "source": [
        "# Start code here\n",
        "import pandas as pd\n",
        "import numpy as np\n",
        "import os\n",
        "\n",
        "class Naive_Bayes:\n",
        "    def __init__(self, vsize=None, word_freq_list=None,data_dir=None,model_type = 'bernoulli'):\n",
        "        \"\"\"\n",
        "        The init function is already written for you, we pick the top vsize words from the word_freq_list\n",
        "        and restrict our vocabulary to those words. We do so by constructing a vocab2idx dict that only contain \n",
        "        the chosen words. We also init the two parameters that will be learned during training, pi and theta.\n",
        "        \n",
        "        vsize: the vocabulary size we pick\n",
        "        word_freq_list word-frequency list\n",
        "        data_dir: directory for your data\n",
        "        model_type: either 'bernoulli' or 'multinomial'\n",
        "        \"\"\"\n",
        "        self.vocab = [int(w[0]) for w in word_freq_list[:vsize]]\n",
        "        self.vocab = np.array(self.vocab)\n",
        "        self.vocab_size = vsize\n",
        "        self.vocab2idx = {w:idx for idx,w in enumerate(self.vocab)}\n",
        "        self.data_dir=data_dir\n",
        "        self.model_type = model_type\n",
        "        \n",
        "        self.pi = None\n",
        "        self.theta = None\n",
        "        \n",
        "        \n",
        "    def _doc_vectorize(self,data_dir, model_type = 'bernoulli'):\n",
        "        \"\"\"\n",
        "        Function to read the documents data from the dir and \n",
        "        pre-process the documents into a matrix of the shape (num_of_docs, vocab_size)\n",
        "        Notice that the you need to modify your code for different \n",
        "        \n",
        "        data_dir: directory for your data\n",
        "        model_type: either 'bernoulli' or 'multinomial'\n",
        "        \n",
        "        return the document vectors in a matrix of the shape (num_of_docs, vocab_size)\n",
        "        \"\"\"\n",
        "        with open(os.path.join(data_dir)) as f:\n",
        "            lines = f.readlines()\n",
        "        data = []\n",
        "\n",
        "        for l in lines:\n",
        "            doc_id, word_id, word_freq = l.strip().split(' ')\n",
        "            data.append([int(doc_id), int(word_id), int(word_freq)])\n",
        "        data = np.array(data)\n",
        "        num_of_docs = np.unique(data[:, 0]).shape[0]\n",
        "        doc_vecs = np.zeros((num_of_docs, self.vocab_size))\n",
        "\n",
        "        if model_type == 'bernoulli':\n",
        "            for i in range(num_of_docs):\n",
        "                # The data of the document i\n",
        "                data_doc_i = data[np.where(data[:, 0] == i + 1)]\n",
        "                # All the word index of the document i\n",
        "                word_doc_i = data_doc_i[:, 1]\n",
        "                mask = np.in1d(self.vocab, word_doc_i)\n",
        "                # The word index of the vocab that in the document\n",
        "                vacab_index = np.where(mask)[0]\n",
        "                # Assign 1 to the word index in the doc_vecs matrix\n",
        "                doc_vecs[i, vacab_index] = 1\n",
        "        elif model_type == 'multivariate':\n",
        "            for i in range(num_of_docs):\n",
        "                # The data of the document i\n",
        "                data_doc_i = data[np.where(data[:, 0] == i + 1)]\n",
        "                # All the word index of the document i\n",
        "                word_doc_i = data_doc_i[:, 1]\n",
        "                mask = np.in1d(self.vocab, word_doc_i)\n",
        "                # The word index of the vocab that in the document\n",
        "                vacab_index = np.where(mask)[0].astype(int)\n",
        "                # Assign frequency of the word to the doc_vec\n",
        "                for j in vacab_index:\n",
        "                    # The index of the vocab that in the data_doc_i \n",
        "                    index_of_vocab = np.where(data_doc_i[:, 1] == self.vocab[j])\n",
        "                    doc_vecs[i, j] = data_doc_i[index_of_vocab, 2]\n",
        "                #doc_vecs[i, vacab_index] = data_doc_i[word_freq_index, 2]\n",
        "        doc_vecs = np.array(doc_vecs)\n",
        "        return doc_vecs\n",
        "        \n",
        "    def _label_vectorize(self, label_dir):\n",
        "        \"\"\"\n",
        "        Function to read the labels data from the dir and pre-process (one-hot encoding)\n",
        "        the labels into a matrix of the shape (num_of_docs, num_of_class)\n",
        "        \n",
        "        data_dir: directory for your data\n",
        "        \n",
        "        return the label vectors in a matrix of the shape (num_of_docs, num_of_classes)\n",
        "        \"\"\"\n",
        "        #For this problem, we already know num_of_classes = 20\n",
        "        num_of_classes = 20\n",
        "        with open(os.path.join(label_dir)) as f:\n",
        "            lines = f.readlines()\n",
        "        data = []\n",
        "        # Read the label\n",
        "        for l in lines:\n",
        "            data.append(int(l.strip()))\n",
        "        # Create the label_vecs matrix\n",
        "        label_vecs = np.zeros((len(lines), num_of_classes))\n",
        "\n",
        "        # Assign values to the corresponding point\n",
        "        for i in range(len(lines)):\n",
        "            label_vecs[i, data[i] - 1] = 1\n",
        "        label_vecs = np.array(label_vecs)\n",
        "        return label_vecs\n",
        "        \n",
        "    def fit(self,doc_vecs,label_vecs, model_type = 'bernoulli'):\n",
        "        \"\"\"\n",
        "        Function to learn the two parameters, pi and theta, using the doc-vectors and label-vectors\n",
        "        we got.\n",
        "        \n",
        "        doc_vecs:(num_of_docs, vocab_size)\n",
        "        label_vecs:(num_of_docs, num_of_classes)\n",
        "        return:None\n",
        "        \"\"\"\n",
        "        num_docs = doc_vecs.shape[0]\n",
        "        num_class = label_vecs.shape[1]\n",
        "\n",
        "        if model_type == 'bernoulli':\n",
        "            self.pi = np.zeros(num_class)\n",
        "            self.theta = np.dot(doc_vecs.T, label_vecs) + 1\n",
        "            for i in range(num_class):\n",
        "                # class document size, for example, class 1 has 480 documents\n",
        "                class_doc_size = np.where(label_vecs[:, i] == 1)[0].shape[0]\n",
        "                self.theta[:, i] /= (class_doc_size + self.vocab_size)\n",
        "                self.pi[i] = class_doc_size / num_docs\n",
        "        elif model_type == 'multivariate':\n",
        "            self.pi = np.zeros(num_class)\n",
        "            self.theta = np.dot(doc_vecs.T, label_vecs) + 1\n",
        "            # Get the class word size\n",
        "            class_word_size = {}\n",
        "            for k in range(num_class):\n",
        "                class_word_size[k] = sum(sum(doc_vecs[np.where(label_vecs[:, k] == 1)[0], :]))\n",
        "            # Calculate theta and pi\n",
        "            for i in range(num_class):\n",
        "                # class document size, for example, class 1 has 480 documents\n",
        "                class_doc_size = np.where(label_vecs[:, i] == 1)[0].shape[0]\n",
        "                self.theta[:, i] /= (class_word_size[i] + self.vocab_size)\n",
        "                self.pi[i] = class_doc_size / num_docs\n",
        "   \n",
        "    def predict(self,doc_vecs):\n",
        "        \"\"\"\n",
        "        Function to make predictions using the two learned parameters.\n",
        "        doc_vecs:(num_of_docs, vocab_size)\n",
        "        \n",
        "        return: predictions (num_of_docs,), each element is between 0 and num_of_classes (20)\n",
        "        \"\"\"\n",
        "        log_theta = np.log(self.theta)\n",
        "\n",
        "        prob = np.dot(doc_vecs, log_theta)\n",
        "        for i in range(self.pi.shape[0]):\n",
        "            prob[:, i] = prob[:, i] + np.log(self.pi[i])\n",
        "\n",
        "        prediction = prob.argmax(axis=1)\n",
        "        return prediction\n",
        "        \n",
        "    \n",
        "    def train(self):\n",
        "        \"\"\"\n",
        "        This function should:\n",
        "            1. Load the training data and labels\n",
        "            2. vectorize the data and the labels\n",
        "            3. fit the parameters\n",
        "        \"\"\"\n",
        "        train_data_dir = os.path.join(self.data_dir, 'test.data')\n",
        "        train_doc_vecs = self._doc_vectorize(train_data_dir, self.model_type)\n",
        "        train_label_dir = os.path.join(self.data_dir, 'test.label')\n",
        "        train_label_vecs = self._label_vectorize(train_label_dir)\n",
        "        self.vocab_size = train_doc_vecs.shape[1]\n",
        "        self.fit(train_doc_vecs, train_label_vecs, model_type=self.model_type)\n",
        "    \n",
        "    def test(self):\n",
        "        \"\"\"\n",
        "        This function should:\n",
        "            1. Load the test data and labels\n",
        "            2. vectorize the data and the labels\n",
        "            3. apply the (already trained) model to the test data and get predictions\n",
        "            4. calculate and return the accuracy of the predictions\n",
        "        \"\"\"\n",
        "        # Read test doc data\n",
        "        test_data_dir = os.path.join(self.data_dir, 'train.data')\n",
        "        test_doc_vecs = self._doc_vectorize(test_data_dir, self.model_type)\n",
        "        # Read label data\n",
        "        test_labrl_dir = os.path.join(self.data_dir, 'train.label')\n",
        "        test_labels = self._label_vectorize(test_labrl_dir)\n",
        "        test_labels = test_labels.argmax(axis=1)\n",
        "        test_predictions = self.predict(test_doc_vecs)\n",
        "        acc = np.sum(test_labels == test_predictions) / len(test_labels)\n",
        "        #print(acc)\n",
        "        return acc\n",
        "\n",
        "#End code here"
      ],
      "execution_count": null,
      "outputs": []
    },
    {
      "cell_type": "markdown",
      "metadata": {
        "id": "mhq8HLUUGoLY"
      },
      "source": [
        "### Evaluating the model"
      ]
    },
    {
      "cell_type": "code",
      "metadata": {
        "id": "ZtNECZa2GoLZ",
        "colab": {
          "base_uri": "https://localhost:8080/"
        },
        "outputId": "9f67335b-3cd0-456c-db85-2d59453896d0"
      },
      "source": [
        "# Set your data_dir\n",
        "DATA_DIR='20news-bydate/matlab'\n",
        "# Do not change the code below\n",
        "train_data_dir = os.path.join(DATA_DIR, 'train.data')\n",
        "word_freq_list = create_word_freq_list(train_data_dir=train_data_dir)\n",
        "acc_bernoulli,acc_multi = [],[]\n",
        "recall_bernoulli,recall_multi = [],[]\n",
        "precision_bernoulli,precision_multi = [],[]\n",
        "vsizes = [100,500,1000,2000,5000,20000]\n",
        "print('Bernoulli Model:')\n",
        "for vsize in vsizes:\n",
        "    model_Bernoulli = Naive_Bayes(vsize=vsize, word_freq_list=word_freq_list,data_dir=DATA_DIR,model_type='bernoulli')\n",
        "    model_Bernoulli.train()\n",
        "    acc = model_Bernoulli.test()\n",
        "    acc_bernoulli.append(acc)\n",
        "    print('Vocabulary size: ' + str(vsize) + '\\t Accuracy: ' + str(acc))\n",
        "\n",
        "print('MultiVariate Model:')\n",
        "for vsize in vsizes:\n",
        "    model_MultiVariate = Naive_Bayes(vsize=vsize, word_freq_list=word_freq_list,data_dir=DATA_DIR,model_type='multivariate')\n",
        "    model_MultiVariate.train()\n",
        "    acc = model_MultiVariate.test()\n",
        "    acc_multi.append(acc)\n",
        "    print('Vocabulary size: ' + str(vsize) + '\\t Accuracy: ' + str(acc))\n",
        "\n"
      ],
      "execution_count": null,
      "outputs": [
        {
          "output_type": "stream",
          "text": [
            "Bernoulli Model:\n",
            "Vocabulary size: 100\t Accuracy: 0.07445203656047564\n",
            "Vocabulary size: 500\t Accuracy: 0.173041086165587\n",
            "Vocabulary size: 1000\t Accuracy: 0.2621350607862277\n",
            "Vocabulary size: 2000\t Accuracy: 0.3604578933356997\n",
            "Vocabulary size: 5000\t Accuracy: 0.47697222468719497\n",
            "Vocabulary size: 20000\t Accuracy: 0.5737864939213773\n",
            "MultiVariate Model:\n",
            "Vocabulary size: 100\t Accuracy: 0.2383530038157778\n",
            "Vocabulary size: 500\t Accuracy: 0.5000443695092732\n",
            "Vocabulary size: 1000\t Accuracy: 0.6158487887123968\n",
            "Vocabulary size: 2000\t Accuracy: 0.6800070991214837\n",
            "Vocabulary size: 5000\t Accuracy: 0.7420356730854557\n",
            "Vocabulary size: 20000\t Accuracy: 0.7814357973200816\n"
          ],
          "name": "stdout"
        }
      ]
    },
    {
      "cell_type": "markdown",
      "metadata": {
        "id": "D82y36aJGoLa"
      },
      "source": [
        "### Evaluation\n",
        "Plot the accuracy, recall and precision following metrics of the two models versus the vocabulary size. Create three plots for each performance metric."
      ]
    },
    {
      "cell_type": "code",
      "metadata": {
        "id": "43LjGyIxGoLa",
        "colab": {
          "base_uri": "https://localhost:8080/",
          "height": 264
        },
        "outputId": "46499cb7-bb34-4422-e41d-4521f6ff33a1"
      },
      "source": [
        "# Do not change the code in this cell\n",
        "plt.figure()\n",
        "plt.plot(vsizes, acc_bernoulli, label = 'Bernoulli Model')\n",
        "plt.plot(vsizes, acc_multi, label = 'Multinomial Event Model')\n",
        "plt.legend()\n",
        "plt.show()"
      ],
      "execution_count": null,
      "outputs": [
        {
          "output_type": "display_data",
          "data": {
            "image/png": "[encoded data removed]",
            "text/plain": [
              "<Figure size 432x288 with 1 Axes>"
            ]
          },
          "metadata": {
            "tags": [],
            "needs_background": "light"
          }
        }
      ]
    }
  ]
}